{
 "cells": [
  {
   "cell_type": "code",
   "execution_count": 1,
   "metadata": {},
   "outputs": [],
   "source": [
    "import pandas as pd\n",
    "import numpy as np\n",
    "import matplotlib.pyplot as plt"
   ]
  },
  {
   "cell_type": "code",
   "execution_count": 2,
   "metadata": {},
   "outputs": [
    {
     "data": {
      "text/html": [
       "<div>\n",
       "<style scoped>\n",
       "    .dataframe tbody tr th:only-of-type {\n",
       "        vertical-align: middle;\n",
       "    }\n",
       "\n",
       "    .dataframe tbody tr th {\n",
       "        vertical-align: top;\n",
       "    }\n",
       "\n",
       "    .dataframe thead th {\n",
       "        text-align: right;\n",
       "    }\n",
       "</style>\n",
       "<table border=\"1\" class=\"dataframe\">\n",
       "  <thead>\n",
       "    <tr style=\"text-align: right;\">\n",
       "      <th></th>\n",
       "      <th>Time</th>\n",
       "      <th>V1</th>\n",
       "      <th>V2</th>\n",
       "      <th>V3</th>\n",
       "      <th>V4</th>\n",
       "      <th>V5</th>\n",
       "      <th>V6</th>\n",
       "      <th>V7</th>\n",
       "      <th>V8</th>\n",
       "      <th>V9</th>\n",
       "      <th>...</th>\n",
       "      <th>V21</th>\n",
       "      <th>V22</th>\n",
       "      <th>V23</th>\n",
       "      <th>V24</th>\n",
       "      <th>V25</th>\n",
       "      <th>V26</th>\n",
       "      <th>V27</th>\n",
       "      <th>V28</th>\n",
       "      <th>Amount</th>\n",
       "      <th>Class</th>\n",
       "    </tr>\n",
       "  </thead>\n",
       "  <tbody>\n",
       "    <tr>\n",
       "      <th>0</th>\n",
       "      <td>0.0</td>\n",
       "      <td>-1.359807</td>\n",
       "      <td>-0.072781</td>\n",
       "      <td>2.536347</td>\n",
       "      <td>1.378155</td>\n",
       "      <td>-0.338321</td>\n",
       "      <td>0.462388</td>\n",
       "      <td>0.239599</td>\n",
       "      <td>0.098698</td>\n",
       "      <td>0.363787</td>\n",
       "      <td>...</td>\n",
       "      <td>-0.018307</td>\n",
       "      <td>0.277838</td>\n",
       "      <td>-0.110474</td>\n",
       "      <td>0.066928</td>\n",
       "      <td>0.128539</td>\n",
       "      <td>-0.189115</td>\n",
       "      <td>0.133558</td>\n",
       "      <td>-0.021053</td>\n",
       "      <td>149.62</td>\n",
       "      <td>0</td>\n",
       "    </tr>\n",
       "    <tr>\n",
       "      <th>1</th>\n",
       "      <td>0.0</td>\n",
       "      <td>1.191857</td>\n",
       "      <td>0.266151</td>\n",
       "      <td>0.166480</td>\n",
       "      <td>0.448154</td>\n",
       "      <td>0.060018</td>\n",
       "      <td>-0.082361</td>\n",
       "      <td>-0.078803</td>\n",
       "      <td>0.085102</td>\n",
       "      <td>-0.255425</td>\n",
       "      <td>...</td>\n",
       "      <td>-0.225775</td>\n",
       "      <td>-0.638672</td>\n",
       "      <td>0.101288</td>\n",
       "      <td>-0.339846</td>\n",
       "      <td>0.167170</td>\n",
       "      <td>0.125895</td>\n",
       "      <td>-0.008983</td>\n",
       "      <td>0.014724</td>\n",
       "      <td>2.69</td>\n",
       "      <td>0</td>\n",
       "    </tr>\n",
       "    <tr>\n",
       "      <th>2</th>\n",
       "      <td>1.0</td>\n",
       "      <td>-1.358354</td>\n",
       "      <td>-1.340163</td>\n",
       "      <td>1.773209</td>\n",
       "      <td>0.379780</td>\n",
       "      <td>-0.503198</td>\n",
       "      <td>1.800499</td>\n",
       "      <td>0.791461</td>\n",
       "      <td>0.247676</td>\n",
       "      <td>-1.514654</td>\n",
       "      <td>...</td>\n",
       "      <td>0.247998</td>\n",
       "      <td>0.771679</td>\n",
       "      <td>0.909412</td>\n",
       "      <td>-0.689281</td>\n",
       "      <td>-0.327642</td>\n",
       "      <td>-0.139097</td>\n",
       "      <td>-0.055353</td>\n",
       "      <td>-0.059752</td>\n",
       "      <td>378.66</td>\n",
       "      <td>0</td>\n",
       "    </tr>\n",
       "    <tr>\n",
       "      <th>3</th>\n",
       "      <td>1.0</td>\n",
       "      <td>-0.966272</td>\n",
       "      <td>-0.185226</td>\n",
       "      <td>1.792993</td>\n",
       "      <td>-0.863291</td>\n",
       "      <td>-0.010309</td>\n",
       "      <td>1.247203</td>\n",
       "      <td>0.237609</td>\n",
       "      <td>0.377436</td>\n",
       "      <td>-1.387024</td>\n",
       "      <td>...</td>\n",
       "      <td>-0.108300</td>\n",
       "      <td>0.005274</td>\n",
       "      <td>-0.190321</td>\n",
       "      <td>-1.175575</td>\n",
       "      <td>0.647376</td>\n",
       "      <td>-0.221929</td>\n",
       "      <td>0.062723</td>\n",
       "      <td>0.061458</td>\n",
       "      <td>123.50</td>\n",
       "      <td>0</td>\n",
       "    </tr>\n",
       "    <tr>\n",
       "      <th>4</th>\n",
       "      <td>2.0</td>\n",
       "      <td>-1.158233</td>\n",
       "      <td>0.877737</td>\n",
       "      <td>1.548718</td>\n",
       "      <td>0.403034</td>\n",
       "      <td>-0.407193</td>\n",
       "      <td>0.095921</td>\n",
       "      <td>0.592941</td>\n",
       "      <td>-0.270533</td>\n",
       "      <td>0.817739</td>\n",
       "      <td>...</td>\n",
       "      <td>-0.009431</td>\n",
       "      <td>0.798278</td>\n",
       "      <td>-0.137458</td>\n",
       "      <td>0.141267</td>\n",
       "      <td>-0.206010</td>\n",
       "      <td>0.502292</td>\n",
       "      <td>0.219422</td>\n",
       "      <td>0.215153</td>\n",
       "      <td>69.99</td>\n",
       "      <td>0</td>\n",
       "    </tr>\n",
       "  </tbody>\n",
       "</table>\n",
       "<p>5 rows × 31 columns</p>\n",
       "</div>"
      ],
      "text/plain": [
       "   Time        V1        V2        V3        V4        V5        V6        V7  \\\n",
       "0   0.0 -1.359807 -0.072781  2.536347  1.378155 -0.338321  0.462388  0.239599   \n",
       "1   0.0  1.191857  0.266151  0.166480  0.448154  0.060018 -0.082361 -0.078803   \n",
       "2   1.0 -1.358354 -1.340163  1.773209  0.379780 -0.503198  1.800499  0.791461   \n",
       "3   1.0 -0.966272 -0.185226  1.792993 -0.863291 -0.010309  1.247203  0.237609   \n",
       "4   2.0 -1.158233  0.877737  1.548718  0.403034 -0.407193  0.095921  0.592941   \n",
       "\n",
       "         V8        V9  ...       V21       V22       V23       V24       V25  \\\n",
       "0  0.098698  0.363787  ... -0.018307  0.277838 -0.110474  0.066928  0.128539   \n",
       "1  0.085102 -0.255425  ... -0.225775 -0.638672  0.101288 -0.339846  0.167170   \n",
       "2  0.247676 -1.514654  ...  0.247998  0.771679  0.909412 -0.689281 -0.327642   \n",
       "3  0.377436 -1.387024  ... -0.108300  0.005274 -0.190321 -1.175575  0.647376   \n",
       "4 -0.270533  0.817739  ... -0.009431  0.798278 -0.137458  0.141267 -0.206010   \n",
       "\n",
       "        V26       V27       V28  Amount  Class  \n",
       "0 -0.189115  0.133558 -0.021053  149.62      0  \n",
       "1  0.125895 -0.008983  0.014724    2.69      0  \n",
       "2 -0.139097 -0.055353 -0.059752  378.66      0  \n",
       "3 -0.221929  0.062723  0.061458  123.50      0  \n",
       "4  0.502292  0.219422  0.215153   69.99      0  \n",
       "\n",
       "[5 rows x 31 columns]"
      ]
     },
     "execution_count": 2,
     "metadata": {},
     "output_type": "execute_result"
    }
   ],
   "source": [
    "df= pd.read_csv(\"D:\\Machine Learning\\creditcard.csv\")\n",
    "df.head()"
   ]
  },
  {
   "cell_type": "code",
   "execution_count": 3,
   "metadata": {},
   "outputs": [
    {
     "data": {
      "text/plain": [
       "(284807, 31)"
      ]
     },
     "execution_count": 3,
     "metadata": {},
     "output_type": "execute_result"
    }
   ],
   "source": [
    "df.shape"
   ]
  },
  {
   "cell_type": "code",
   "execution_count": 4,
   "metadata": {},
   "outputs": [
    {
     "data": {
      "text/plain": [
       "0    284315\n",
       "1       492\n",
       "Name: Class, dtype: int64"
      ]
     },
     "execution_count": 4,
     "metadata": {},
     "output_type": "execute_result"
    }
   ],
   "source": [
    "# To find dependant and independant fields. Let's check unique values in column 'Class'\n",
    "\n",
    "df['Class'].value_counts()"
   ]
  },
  {
   "cell_type": "code",
   "execution_count": 5,
   "metadata": {},
   "outputs": [],
   "source": [
    "x = df.drop(['Class'],axis='columns')\n",
    "y=df[['Class']]"
   ]
  },
  {
   "cell_type": "code",
   "execution_count": 6,
   "metadata": {},
   "outputs": [],
   "source": [
    "# Separating out data according to feature 'Class' \n",
    "fraud = df[df.Class==1]\n",
    "valid = df[df.Class==0]\n"
   ]
  },
  {
   "cell_type": "code",
   "execution_count": 7,
   "metadata": {},
   "outputs": [],
   "source": [
    "%matplotlib inline"
   ]
  },
  {
   "cell_type": "code",
   "execution_count": 8,
   "metadata": {},
   "outputs": [
    {
     "data": {
      "text/plain": [
       "<matplotlib.collections.PathCollection at 0x27ae7788048>"
      ]
     },
     "execution_count": 8,
     "metadata": {},
     "output_type": "execute_result"
    },
    {
     "data": {
      "image/png": "[encoded data removed]",
      "text/plain": [
       "<Figure size 432x288 with 1 Axes>"
      ]
     },
     "metadata": {
      "needs_background": "light"
     },
     "output_type": "display_data"
    }
   ],
   "source": [
    "plt.xlabel('Time')\n",
    "plt.ylabel('Amount')\n",
    "plt.scatter(fraud['Time'], fraud['Amount'],color=\"red\", marker='+')\n",
    "#plt.scatter(not_fraud['Time'], not_fraud['Amount'],color=\"blue\", marker='_')\n"
   ]
  },
  {
   "cell_type": "code",
   "execution_count": 9,
   "metadata": {},
   "outputs": [
    {
     "data": {
      "text/html": [
       "<div>\n",
       "<style scoped>\n",
       "    .dataframe tbody tr th:only-of-type {\n",
       "        vertical-align: middle;\n",
       "    }\n",
       "\n",
       "    .dataframe tbody tr th {\n",
       "        vertical-align: top;\n",
       "    }\n",
       "\n",
       "    .dataframe thead th {\n",
       "        text-align: right;\n",
       "    }\n",
       "</style>\n",
       "<table border=\"1\" class=\"dataframe\">\n",
       "  <thead>\n",
       "    <tr style=\"text-align: right;\">\n",
       "      <th></th>\n",
       "      <th>Time</th>\n",
       "      <th>V1</th>\n",
       "      <th>V2</th>\n",
       "      <th>V3</th>\n",
       "      <th>V4</th>\n",
       "      <th>V5</th>\n",
       "      <th>V6</th>\n",
       "      <th>V7</th>\n",
       "      <th>V8</th>\n",
       "      <th>V9</th>\n",
       "      <th>...</th>\n",
       "      <th>V21</th>\n",
       "      <th>V22</th>\n",
       "      <th>V23</th>\n",
       "      <th>V24</th>\n",
       "      <th>V25</th>\n",
       "      <th>V26</th>\n",
       "      <th>V27</th>\n",
       "      <th>V28</th>\n",
       "      <th>Amount</th>\n",
       "      <th>Class</th>\n",
       "    </tr>\n",
       "  </thead>\n",
       "  <tbody>\n",
       "    <tr>\n",
       "      <th>6971</th>\n",
       "      <td>9064.0</td>\n",
       "      <td>-3.499108</td>\n",
       "      <td>0.258555</td>\n",
       "      <td>-4.489558</td>\n",
       "      <td>4.853894</td>\n",
       "      <td>-6.974522</td>\n",
       "      <td>3.628382</td>\n",
       "      <td>5.431271</td>\n",
       "      <td>-1.946734</td>\n",
       "      <td>-0.775680</td>\n",
       "      <td>...</td>\n",
       "      <td>-1.052368</td>\n",
       "      <td>0.204817</td>\n",
       "      <td>-2.119007</td>\n",
       "      <td>0.170279</td>\n",
       "      <td>-0.393844</td>\n",
       "      <td>0.296367</td>\n",
       "      <td>1.985913</td>\n",
       "      <td>-0.900452</td>\n",
       "      <td>1809.68</td>\n",
       "      <td>1</td>\n",
       "    </tr>\n",
       "    <tr>\n",
       "      <th>10690</th>\n",
       "      <td>18088.0</td>\n",
       "      <td>-12.224021</td>\n",
       "      <td>3.854150</td>\n",
       "      <td>-12.466766</td>\n",
       "      <td>9.648311</td>\n",
       "      <td>-2.726961</td>\n",
       "      <td>-4.445610</td>\n",
       "      <td>-21.922811</td>\n",
       "      <td>0.320792</td>\n",
       "      <td>-4.433162</td>\n",
       "      <td>...</td>\n",
       "      <td>-1.159830</td>\n",
       "      <td>-1.504119</td>\n",
       "      <td>-19.254328</td>\n",
       "      <td>0.544867</td>\n",
       "      <td>-4.781606</td>\n",
       "      <td>-0.007772</td>\n",
       "      <td>3.052358</td>\n",
       "      <td>-0.775036</td>\n",
       "      <td>1218.89</td>\n",
       "      <td>1</td>\n",
       "    </tr>\n",
       "    <tr>\n",
       "      <th>81609</th>\n",
       "      <td>59011.0</td>\n",
       "      <td>-2.326922</td>\n",
       "      <td>-3.348439</td>\n",
       "      <td>-3.513408</td>\n",
       "      <td>3.175060</td>\n",
       "      <td>-2.815137</td>\n",
       "      <td>-0.203363</td>\n",
       "      <td>-0.892144</td>\n",
       "      <td>0.333226</td>\n",
       "      <td>-0.802005</td>\n",
       "      <td>...</td>\n",
       "      <td>1.226648</td>\n",
       "      <td>-0.695902</td>\n",
       "      <td>-1.478490</td>\n",
       "      <td>-0.061553</td>\n",
       "      <td>0.236155</td>\n",
       "      <td>0.531911</td>\n",
       "      <td>0.302324</td>\n",
       "      <td>0.536375</td>\n",
       "      <td>1389.56</td>\n",
       "      <td>1</td>\n",
       "    </tr>\n",
       "    <tr>\n",
       "      <th>89190</th>\n",
       "      <td>62467.0</td>\n",
       "      <td>-5.344665</td>\n",
       "      <td>-0.285760</td>\n",
       "      <td>-3.835616</td>\n",
       "      <td>5.337048</td>\n",
       "      <td>-7.609909</td>\n",
       "      <td>3.874668</td>\n",
       "      <td>1.289630</td>\n",
       "      <td>0.201742</td>\n",
       "      <td>-3.003532</td>\n",
       "      <td>...</td>\n",
       "      <td>0.276011</td>\n",
       "      <td>1.342045</td>\n",
       "      <td>-1.016579</td>\n",
       "      <td>-0.071361</td>\n",
       "      <td>-0.335869</td>\n",
       "      <td>0.441044</td>\n",
       "      <td>1.520613</td>\n",
       "      <td>-1.115937</td>\n",
       "      <td>1402.16</td>\n",
       "      <td>1</td>\n",
       "    </tr>\n",
       "    <tr>\n",
       "      <th>95597</th>\n",
       "      <td>65385.0</td>\n",
       "      <td>-2.923827</td>\n",
       "      <td>1.524837</td>\n",
       "      <td>-3.018758</td>\n",
       "      <td>3.289291</td>\n",
       "      <td>-5.755542</td>\n",
       "      <td>2.218276</td>\n",
       "      <td>-0.509995</td>\n",
       "      <td>-3.569444</td>\n",
       "      <td>-1.016592</td>\n",
       "      <td>...</td>\n",
       "      <td>-0.511657</td>\n",
       "      <td>-0.122724</td>\n",
       "      <td>-4.288639</td>\n",
       "      <td>0.563797</td>\n",
       "      <td>-0.949451</td>\n",
       "      <td>-0.204532</td>\n",
       "      <td>1.510206</td>\n",
       "      <td>-0.324706</td>\n",
       "      <td>1354.25</td>\n",
       "      <td>1</td>\n",
       "    </tr>\n",
       "    <tr>\n",
       "      <th>176049</th>\n",
       "      <td>122608.0</td>\n",
       "      <td>-2.003460</td>\n",
       "      <td>-7.159042</td>\n",
       "      <td>-4.050976</td>\n",
       "      <td>1.309580</td>\n",
       "      <td>-2.058102</td>\n",
       "      <td>-0.098621</td>\n",
       "      <td>2.880083</td>\n",
       "      <td>-0.727484</td>\n",
       "      <td>1.460381</td>\n",
       "      <td>...</td>\n",
       "      <td>1.244287</td>\n",
       "      <td>-1.015232</td>\n",
       "      <td>-1.800985</td>\n",
       "      <td>0.657586</td>\n",
       "      <td>-0.435617</td>\n",
       "      <td>-0.894509</td>\n",
       "      <td>-0.397557</td>\n",
       "      <td>0.314262</td>\n",
       "      <td>2125.87</td>\n",
       "      <td>1</td>\n",
       "    </tr>\n",
       "    <tr>\n",
       "      <th>199896</th>\n",
       "      <td>133184.0</td>\n",
       "      <td>-1.212682</td>\n",
       "      <td>-2.484824</td>\n",
       "      <td>-6.397186</td>\n",
       "      <td>3.670562</td>\n",
       "      <td>-0.863375</td>\n",
       "      <td>-1.855855</td>\n",
       "      <td>1.017732</td>\n",
       "      <td>-0.544704</td>\n",
       "      <td>-1.703378</td>\n",
       "      <td>...</td>\n",
       "      <td>1.396872</td>\n",
       "      <td>0.092073</td>\n",
       "      <td>-1.492882</td>\n",
       "      <td>-0.204227</td>\n",
       "      <td>0.532511</td>\n",
       "      <td>-0.293871</td>\n",
       "      <td>0.212663</td>\n",
       "      <td>0.431095</td>\n",
       "      <td>1335.00</td>\n",
       "      <td>1</td>\n",
       "    </tr>\n",
       "    <tr>\n",
       "      <th>249167</th>\n",
       "      <td>154278.0</td>\n",
       "      <td>-1.600211</td>\n",
       "      <td>-3.488130</td>\n",
       "      <td>-6.459303</td>\n",
       "      <td>3.246816</td>\n",
       "      <td>-1.614608</td>\n",
       "      <td>-1.260375</td>\n",
       "      <td>0.288223</td>\n",
       "      <td>-0.048964</td>\n",
       "      <td>-0.734975</td>\n",
       "      <td>...</td>\n",
       "      <td>1.191175</td>\n",
       "      <td>-0.967141</td>\n",
       "      <td>-1.463421</td>\n",
       "      <td>-0.624231</td>\n",
       "      <td>-0.176462</td>\n",
       "      <td>0.400348</td>\n",
       "      <td>0.152947</td>\n",
       "      <td>0.477775</td>\n",
       "      <td>1504.93</td>\n",
       "      <td>1</td>\n",
       "    </tr>\n",
       "    <tr>\n",
       "      <th>249239</th>\n",
       "      <td>154309.0</td>\n",
       "      <td>-0.082983</td>\n",
       "      <td>-3.935919</td>\n",
       "      <td>-2.616709</td>\n",
       "      <td>0.163310</td>\n",
       "      <td>-1.400952</td>\n",
       "      <td>-0.809419</td>\n",
       "      <td>1.501580</td>\n",
       "      <td>-0.471000</td>\n",
       "      <td>1.519743</td>\n",
       "      <td>...</td>\n",
       "      <td>0.702672</td>\n",
       "      <td>-0.182305</td>\n",
       "      <td>-0.921017</td>\n",
       "      <td>0.111635</td>\n",
       "      <td>-0.071622</td>\n",
       "      <td>-1.125881</td>\n",
       "      <td>-0.170947</td>\n",
       "      <td>0.126221</td>\n",
       "      <td>1096.99</td>\n",
       "      <td>1</td>\n",
       "    </tr>\n",
       "  </tbody>\n",
       "</table>\n",
       "<p>9 rows × 31 columns</p>\n",
       "</div>"
      ],
      "text/plain": [
       "            Time         V1        V2         V3        V4        V5  \\\n",
       "6971      9064.0  -3.499108  0.258555  -4.489558  4.853894 -6.974522   \n",
       "10690    18088.0 -12.224021  3.854150 -12.466766  9.648311 -2.726961   \n",
       "81609    59011.0  -2.326922 -3.348439  -3.513408  3.175060 -2.815137   \n",
       "89190    62467.0  -5.344665 -0.285760  -3.835616  5.337048 -7.609909   \n",
       "95597    65385.0  -2.923827  1.524837  -3.018758  3.289291 -5.755542   \n",
       "176049  122608.0  -2.003460 -7.159042  -4.050976  1.309580 -2.058102   \n",
       "199896  133184.0  -1.212682 -2.484824  -6.397186  3.670562 -0.863375   \n",
       "249167  154278.0  -1.600211 -3.488130  -6.459303  3.246816 -1.614608   \n",
       "249239  154309.0  -0.082983 -3.935919  -2.616709  0.163310 -1.400952   \n",
       "\n",
       "              V6         V7        V8        V9  ...       V21       V22  \\\n",
       "6971    3.628382   5.431271 -1.946734 -0.775680  ... -1.052368  0.204817   \n",
       "10690  -4.445610 -21.922811  0.320792 -4.433162  ... -1.159830 -1.504119   \n",
       "81609  -0.203363  -0.892144  0.333226 -0.802005  ...  1.226648 -0.695902   \n",
       "89190   3.874668   1.289630  0.201742 -3.003532  ...  0.276011  1.342045   \n",
       "95597   2.218276  -0.509995 -3.569444 -1.016592  ... -0.511657 -0.122724   \n",
       "176049 -0.098621   2.880083 -0.727484  1.460381  ...  1.244287 -1.015232   \n",
       "199896 -1.855855   1.017732 -0.544704 -1.703378  ...  1.396872  0.092073   \n",
       "249167 -1.260375   0.288223 -0.048964 -0.734975  ...  1.191175 -0.967141   \n",
       "249239 -0.809419   1.501580 -0.471000  1.519743  ...  0.702672 -0.182305   \n",
       "\n",
       "              V23       V24       V25       V26       V27       V28   Amount  \\\n",
       "6971    -2.119007  0.170279 -0.393844  0.296367  1.985913 -0.900452  1809.68   \n",
       "10690  -19.254328  0.544867 -4.781606 -0.007772  3.052358 -0.775036  1218.89   \n",
       "81609   -1.478490 -0.061553  0.236155  0.531911  0.302324  0.536375  1389.56   \n",
       "89190   -1.016579 -0.071361 -0.335869  0.441044  1.520613 -1.115937  1402.16   \n",
       "95597   -4.288639  0.563797 -0.949451 -0.204532  1.510206 -0.324706  1354.25   \n",
       "176049  -1.800985  0.657586 -0.435617 -0.894509 -0.397557  0.314262  2125.87   \n",
       "199896  -1.492882 -0.204227  0.532511 -0.293871  0.212663  0.431095  1335.00   \n",
       "249167  -1.463421 -0.624231 -0.176462  0.400348  0.152947  0.477775  1504.93   \n",
       "249239  -0.921017  0.111635 -0.071622 -1.125881 -0.170947  0.126221  1096.99   \n",
       "\n",
       "        Class  \n",
       "6971        1  \n",
       "10690       1  \n",
       "81609       1  \n",
       "89190       1  \n",
       "95597       1  \n",
       "176049      1  \n",
       "199896      1  \n",
       "249167      1  \n",
       "249239      1  \n",
       "\n",
       "[9 rows x 31 columns]"
      ]
     },
     "execution_count": 9,
     "metadata": {},
     "output_type": "execute_result"
    }
   ],
   "source": [
    "fraud[fraud['Amount']>1000]"
   ]
  },
  {
   "cell_type": "code",
   "execution_count": 10,
   "metadata": {},
   "outputs": [],
   "source": [
    "import seaborn as sm"
   ]
  },
  {
   "cell_type": "code",
   "execution_count": 11,
   "metadata": {},
   "outputs": [
    {
     "data": {
      "image/png": "[encoded data removed]",
      "text/plain": [
       "<Figure size 1080x720 with 2 Axes>"
      ]
     },
     "metadata": {
      "needs_background": "light"
     },
     "output_type": "display_data"
    }
   ],
   "source": [
    "data_corr = df.corr()\n",
    "\n",
    "plt.figure(figsize=(15,10))\n",
    "sm.heatmap(data_corr, cmap=\"YlGnBu\")\n",
    "sm.set(font_scale=2, style='white')\n",
    "\n",
    "plt.title('Heatmap correlation')\n",
    "plt.show()"
   ]
  },
  {
   "cell_type": "code",
   "execution_count": 12,
   "metadata": {},
   "outputs": [],
   "source": [
    "from sklearn.metrics import confusion_matrix"
   ]
  },
  {
   "cell_type": "code",
   "execution_count": 13,
   "metadata": {},
   "outputs": [
    {
     "data": {
      "text/html": [
       "<div>\n",
       "<style scoped>\n",
       "    .dataframe tbody tr th:only-of-type {\n",
       "        vertical-align: middle;\n",
       "    }\n",
       "\n",
       "    .dataframe tbody tr th {\n",
       "        vertical-align: top;\n",
       "    }\n",
       "\n",
       "    .dataframe thead th {\n",
       "        text-align: right;\n",
       "    }\n",
       "</style>\n",
       "<table border=\"1\" class=\"dataframe\">\n",
       "  <thead>\n",
       "    <tr style=\"text-align: right;\">\n",
       "      <th></th>\n",
       "      <th>Class</th>\n",
       "    </tr>\n",
       "  </thead>\n",
       "  <tbody>\n",
       "    <tr>\n",
       "      <th>Class</th>\n",
       "      <td>1.000000</td>\n",
       "    </tr>\n",
       "    <tr>\n",
       "      <th>V17</th>\n",
       "      <td>0.326481</td>\n",
       "    </tr>\n",
       "    <tr>\n",
       "      <th>V14</th>\n",
       "      <td>0.302544</td>\n",
       "    </tr>\n",
       "    <tr>\n",
       "      <th>V12</th>\n",
       "      <td>0.260593</td>\n",
       "    </tr>\n",
       "    <tr>\n",
       "      <th>V10</th>\n",
       "      <td>0.216883</td>\n",
       "    </tr>\n",
       "  </tbody>\n",
       "</table>\n",
       "</div>"
      ],
      "text/plain": [
       "          Class\n",
       "Class  1.000000\n",
       "V17    0.326481\n",
       "V14    0.302544\n",
       "V12    0.260593\n",
       "V10    0.216883"
      ]
     },
     "execution_count": 13,
     "metadata": {},
     "output_type": "execute_result"
    }
   ],
   "source": [
    "rank = data_corr['Class']\n",
    "#print(rank)\n",
    "data_rank = pd.DataFrame(rank)\n",
    "#print(data_rank)\n",
    "data_rank = np.abs(data_rank).sort_values(by='Class',ascending=False)\n",
    "data_rank.dropna(inplace=True)\n",
    "data_rank.head()"
   ]
  },
  {
   "cell_type": "code",
   "execution_count": 14,
   "metadata": {},
   "outputs": [
    {
     "name": "stdout",
     "output_type": "stream",
     "text": [
      "In the dataset, we have293frauds so we need to take a similar number of non-fraud\n"
     ]
    },
    {
     "data": {
      "text/plain": [
       "(593, 31)"
      ]
     },
     "execution_count": 14,
     "metadata": {},
     "output_type": "execute_result"
    }
   ],
   "source": [
    "# Creating a train dataset for SVM model  \n",
    "\n",
    "data_train_all = df[0:150000]\n",
    "data_train_1 = data_train_all[data_train_all['Class']==1]\n",
    "data_train_0 = data_train_all[data_train_all['Class']==0]\n",
    "print('In the dataset, we have' + str(len(data_train_1)) +\"frauds so we need to take a similar number of non-fraud\")\n",
    "\n",
    "data_sample = data_train_0.sample(300)\n",
    "data_train = data_train_1.append(data_sample)\n",
    "data_train = data_train.sample(frac=1)\n",
    "data_train.head()\n",
    "data_train.shape"
   ]
  },
  {
   "cell_type": "code",
   "execution_count": 15,
   "metadata": {},
   "outputs": [
    {
     "data": {
      "text/html": [
       "<div>\n",
       "<style scoped>\n",
       "    .dataframe tbody tr th:only-of-type {\n",
       "        vertical-align: middle;\n",
       "    }\n",
       "\n",
       "    .dataframe tbody tr th {\n",
       "        vertical-align: top;\n",
       "    }\n",
       "\n",
       "    .dataframe thead th {\n",
       "        text-align: right;\n",
       "    }\n",
       "</style>\n",
       "<table border=\"1\" class=\"dataframe\">\n",
       "  <thead>\n",
       "    <tr style=\"text-align: right;\">\n",
       "      <th></th>\n",
       "      <th>Time</th>\n",
       "      <th>V1</th>\n",
       "      <th>V2</th>\n",
       "      <th>V3</th>\n",
       "      <th>V4</th>\n",
       "      <th>V5</th>\n",
       "      <th>V6</th>\n",
       "      <th>V7</th>\n",
       "      <th>V8</th>\n",
       "      <th>V9</th>\n",
       "      <th>...</th>\n",
       "      <th>V21</th>\n",
       "      <th>V22</th>\n",
       "      <th>V23</th>\n",
       "      <th>V24</th>\n",
       "      <th>V25</th>\n",
       "      <th>V26</th>\n",
       "      <th>V27</th>\n",
       "      <th>V28</th>\n",
       "      <th>Amount</th>\n",
       "      <th>Class</th>\n",
       "    </tr>\n",
       "  </thead>\n",
       "  <tbody>\n",
       "    <tr>\n",
       "      <th>42756</th>\n",
       "      <td>41233.0</td>\n",
       "      <td>-10.645800</td>\n",
       "      <td>5.918307</td>\n",
       "      <td>-11.671043</td>\n",
       "      <td>8.807369</td>\n",
       "      <td>-7.975501</td>\n",
       "      <td>-3.586806</td>\n",
       "      <td>-13.616797</td>\n",
       "      <td>6.428169</td>\n",
       "      <td>-7.368451</td>\n",
       "      <td>...</td>\n",
       "      <td>2.571970</td>\n",
       "      <td>0.206809</td>\n",
       "      <td>-1.667801</td>\n",
       "      <td>0.558419</td>\n",
       "      <td>-0.027898</td>\n",
       "      <td>0.354254</td>\n",
       "      <td>0.273329</td>\n",
       "      <td>-0.152908</td>\n",
       "      <td>0.00</td>\n",
       "      <td>1</td>\n",
       "    </tr>\n",
       "    <tr>\n",
       "      <th>30116</th>\n",
       "      <td>35779.0</td>\n",
       "      <td>0.959583</td>\n",
       "      <td>-0.687790</td>\n",
       "      <td>0.058337</td>\n",
       "      <td>0.296292</td>\n",
       "      <td>-0.485396</td>\n",
       "      <td>-0.144892</td>\n",
       "      <td>0.056760</td>\n",
       "      <td>-0.150341</td>\n",
       "      <td>0.652316</td>\n",
       "      <td>...</td>\n",
       "      <td>-0.070652</td>\n",
       "      <td>-0.337116</td>\n",
       "      <td>-0.312515</td>\n",
       "      <td>-0.333009</td>\n",
       "      <td>0.481675</td>\n",
       "      <td>1.082978</td>\n",
       "      <td>-0.093108</td>\n",
       "      <td>0.026893</td>\n",
       "      <td>188.28</td>\n",
       "      <td>0</td>\n",
       "    </tr>\n",
       "    <tr>\n",
       "      <th>17407</th>\n",
       "      <td>28692.0</td>\n",
       "      <td>-29.200329</td>\n",
       "      <td>16.155701</td>\n",
       "      <td>-30.013712</td>\n",
       "      <td>6.476731</td>\n",
       "      <td>-21.225810</td>\n",
       "      <td>-4.902997</td>\n",
       "      <td>-19.791248</td>\n",
       "      <td>19.168327</td>\n",
       "      <td>-3.617242</td>\n",
       "      <td>...</td>\n",
       "      <td>1.809371</td>\n",
       "      <td>-2.175815</td>\n",
       "      <td>-1.365104</td>\n",
       "      <td>0.174286</td>\n",
       "      <td>2.103868</td>\n",
       "      <td>-0.209944</td>\n",
       "      <td>1.278681</td>\n",
       "      <td>0.372393</td>\n",
       "      <td>99.99</td>\n",
       "      <td>1</td>\n",
       "    </tr>\n",
       "    <tr>\n",
       "      <th>38833</th>\n",
       "      <td>39573.0</td>\n",
       "      <td>1.232107</td>\n",
       "      <td>-1.121280</td>\n",
       "      <td>0.152546</td>\n",
       "      <td>-1.122790</td>\n",
       "      <td>-0.546221</td>\n",
       "      <td>1.079609</td>\n",
       "      <td>-1.144805</td>\n",
       "      <td>0.328586</td>\n",
       "      <td>-0.499958</td>\n",
       "      <td>...</td>\n",
       "      <td>0.398805</td>\n",
       "      <td>0.887901</td>\n",
       "      <td>-0.375533</td>\n",
       "      <td>-1.659658</td>\n",
       "      <td>0.509246</td>\n",
       "      <td>0.061095</td>\n",
       "      <td>0.028205</td>\n",
       "      <td>0.010094</td>\n",
       "      <td>104.00</td>\n",
       "      <td>0</td>\n",
       "    </tr>\n",
       "    <tr>\n",
       "      <th>98875</th>\n",
       "      <td>66854.0</td>\n",
       "      <td>1.202866</td>\n",
       "      <td>0.193065</td>\n",
       "      <td>0.616077</td>\n",
       "      <td>0.554697</td>\n",
       "      <td>-0.537045</td>\n",
       "      <td>-0.789108</td>\n",
       "      <td>-0.047939</td>\n",
       "      <td>-0.062165</td>\n",
       "      <td>-0.203492</td>\n",
       "      <td>...</td>\n",
       "      <td>-0.194217</td>\n",
       "      <td>-0.607921</td>\n",
       "      <td>0.151292</td>\n",
       "      <td>0.525803</td>\n",
       "      <td>0.154452</td>\n",
       "      <td>0.065022</td>\n",
       "      <td>-0.033693</td>\n",
       "      <td>0.010556</td>\n",
       "      <td>1.79</td>\n",
       "      <td>0</td>\n",
       "    </tr>\n",
       "  </tbody>\n",
       "</table>\n",
       "<p>5 rows × 31 columns</p>\n",
       "</div>"
      ],
      "text/plain": [
       "          Time         V1         V2         V3        V4         V5  \\\n",
       "42756  41233.0 -10.645800   5.918307 -11.671043  8.807369  -7.975501   \n",
       "30116  35779.0   0.959583  -0.687790   0.058337  0.296292  -0.485396   \n",
       "17407  28692.0 -29.200329  16.155701 -30.013712  6.476731 -21.225810   \n",
       "38833  39573.0   1.232107  -1.121280   0.152546 -1.122790  -0.546221   \n",
       "98875  66854.0   1.202866   0.193065   0.616077  0.554697  -0.537045   \n",
       "\n",
       "             V6         V7         V8        V9  ...       V21       V22  \\\n",
       "42756 -3.586806 -13.616797   6.428169 -7.368451  ...  2.571970  0.206809   \n",
       "30116 -0.144892   0.056760  -0.150341  0.652316  ... -0.070652 -0.337116   \n",
       "17407 -4.902997 -19.791248  19.168327 -3.617242  ...  1.809371 -2.175815   \n",
       "38833  1.079609  -1.144805   0.328586 -0.499958  ...  0.398805  0.887901   \n",
       "98875 -0.789108  -0.047939  -0.062165 -0.203492  ... -0.194217 -0.607921   \n",
       "\n",
       "            V23       V24       V25       V26       V27       V28  Amount  \\\n",
       "42756 -1.667801  0.558419 -0.027898  0.354254  0.273329 -0.152908    0.00   \n",
       "30116 -0.312515 -0.333009  0.481675  1.082978 -0.093108  0.026893  188.28   \n",
       "17407 -1.365104  0.174286  2.103868 -0.209944  1.278681  0.372393   99.99   \n",
       "38833 -0.375533 -1.659658  0.509246  0.061095  0.028205  0.010094  104.00   \n",
       "98875  0.151292  0.525803  0.154452  0.065022 -0.033693  0.010556    1.79   \n",
       "\n",
       "       Class  \n",
       "42756      1  \n",
       "30116      0  \n",
       "17407      1  \n",
       "38833      0  \n",
       "98875      0  \n",
       "\n",
       "[5 rows x 31 columns]"
      ]
     },
     "execution_count": 15,
     "metadata": {},
     "output_type": "execute_result"
    }
   ],
   "source": [
    "data_train.head()"
   ]
  },
  {
   "cell_type": "code",
   "execution_count": 16,
   "metadata": {},
   "outputs": [
    {
     "data": {
      "text/html": [
       "<div>\n",
       "<style scoped>\n",
       "    .dataframe tbody tr th:only-of-type {\n",
       "        vertical-align: middle;\n",
       "    }\n",
       "\n",
       "    .dataframe tbody tr th {\n",
       "        vertical-align: top;\n",
       "    }\n",
       "\n",
       "    .dataframe thead th {\n",
       "        text-align: right;\n",
       "    }\n",
       "</style>\n",
       "<table border=\"1\" class=\"dataframe\">\n",
       "  <thead>\n",
       "    <tr style=\"text-align: right;\">\n",
       "      <th></th>\n",
       "      <th>V17</th>\n",
       "      <th>V14</th>\n",
       "      <th>V12</th>\n",
       "      <th>V10</th>\n",
       "      <th>V16</th>\n",
       "      <th>V3</th>\n",
       "      <th>V7</th>\n",
       "      <th>V11</th>\n",
       "      <th>V4</th>\n",
       "      <th>V18</th>\n",
       "    </tr>\n",
       "  </thead>\n",
       "  <tbody>\n",
       "    <tr>\n",
       "      <th>42756</th>\n",
       "      <td>-20.578022</td>\n",
       "      <td>-13.778956</td>\n",
       "      <td>-13.211695</td>\n",
       "      <td>-12.888158</td>\n",
       "      <td>-11.290328</td>\n",
       "      <td>-11.671043</td>\n",
       "      <td>-13.616797</td>\n",
       "      <td>6.854953</td>\n",
       "      <td>8.807369</td>\n",
       "      <td>-7.547824</td>\n",
       "    </tr>\n",
       "    <tr>\n",
       "      <th>30116</th>\n",
       "      <td>-0.183114</td>\n",
       "      <td>-0.405155</td>\n",
       "      <td>0.597130</td>\n",
       "      <td>-0.409403</td>\n",
       "      <td>-0.065120</td>\n",
       "      <td>0.058337</td>\n",
       "      <td>0.056760</td>\n",
       "      <td>-1.334378</td>\n",
       "      <td>0.296292</td>\n",
       "      <td>-0.499857</td>\n",
       "    </tr>\n",
       "    <tr>\n",
       "      <th>17407</th>\n",
       "      <td>-11.274973</td>\n",
       "      <td>-5.079846</td>\n",
       "      <td>-5.661492</td>\n",
       "      <td>-7.870122</td>\n",
       "      <td>-5.244472</td>\n",
       "      <td>-30.013712</td>\n",
       "      <td>-19.791248</td>\n",
       "      <td>4.066255</td>\n",
       "      <td>6.476731</td>\n",
       "      <td>-4.678437</td>\n",
       "    </tr>\n",
       "    <tr>\n",
       "      <th>38833</th>\n",
       "      <td>-0.521759</td>\n",
       "      <td>-0.236139</td>\n",
       "      <td>-0.615979</td>\n",
       "      <td>0.703074</td>\n",
       "      <td>1.915753</td>\n",
       "      <td>0.152546</td>\n",
       "      <td>-1.144805</td>\n",
       "      <td>-0.003940</td>\n",
       "      <td>-1.122790</td>\n",
       "      <td>-0.181072</td>\n",
       "    </tr>\n",
       "    <tr>\n",
       "      <th>98875</th>\n",
       "      <td>-0.589964</td>\n",
       "      <td>0.481227</td>\n",
       "      <td>1.037017</td>\n",
       "      <td>0.107730</td>\n",
       "      <td>0.447407</td>\n",
       "      <td>0.616077</td>\n",
       "      <td>-0.047939</td>\n",
       "      <td>1.637280</td>\n",
       "      <td>0.554697</td>\n",
       "      <td>-0.093252</td>\n",
       "    </tr>\n",
       "  </tbody>\n",
       "</table>\n",
       "</div>"
      ],
      "text/plain": [
       "             V17        V14        V12        V10        V16         V3  \\\n",
       "42756 -20.578022 -13.778956 -13.211695 -12.888158 -11.290328 -11.671043   \n",
       "30116  -0.183114  -0.405155   0.597130  -0.409403  -0.065120   0.058337   \n",
       "17407 -11.274973  -5.079846  -5.661492  -7.870122  -5.244472 -30.013712   \n",
       "38833  -0.521759  -0.236139  -0.615979   0.703074   1.915753   0.152546   \n",
       "98875  -0.589964   0.481227   1.037017   0.107730   0.447407   0.616077   \n",
       "\n",
       "              V7       V11        V4       V18  \n",
       "42756 -13.616797  6.854953  8.807369 -7.547824  \n",
       "30116   0.056760 -1.334378  0.296292 -0.499857  \n",
       "17407 -19.791248  4.066255  6.476731 -4.678437  \n",
       "38833  -1.144805 -0.003940 -1.122790 -0.181072  \n",
       "98875  -0.047939  1.637280  0.554697 -0.093252  "
      ]
     },
     "execution_count": 16,
     "metadata": {},
     "output_type": "execute_result"
    }
   ],
   "source": [
    "x1 = data_train.drop(['Class','Time'],axis='columns')\n",
    "y1= data_train[['Class']]\n",
    "\n",
    "x2=data_train[data_rank.index[1:11]]\n",
    "x2.head()\n",
    "\n",
    "#x\n",
    "#y"
   ]
  },
  {
   "cell_type": "code",
   "execution_count": 17,
   "metadata": {},
   "outputs": [],
   "source": [
    "from sklearn.model_selection import train_test_split\n",
    "X_train, X_test, y_train, y_test = train_test_split(x1, y1, test_size=0.25, random_state=0)"
   ]
  },
  {
   "cell_type": "code",
   "execution_count": 18,
   "metadata": {},
   "outputs": [],
   "source": [
    "from sklearn.svm import SVC\n",
    "model = SVC()"
   ]
  },
  {
   "cell_type": "code",
   "execution_count": 19,
   "metadata": {},
   "outputs": [
    {
     "name": "stderr",
     "output_type": "stream",
     "text": [
      "C:\\Users\\Prwatech\\AppData\\Local\\Continuum\\anaconda3\\lib\\site-packages\\sklearn\\utils\\validation.py:761: DataConversionWarning: A column-vector y was passed when a 1d array was expected. Please change the shape of y to (n_samples, ), for example using ravel().\n",
      "  y = column_or_1d(y, warn=True)\n",
      "C:\\Users\\Prwatech\\AppData\\Local\\Continuum\\anaconda3\\lib\\site-packages\\sklearn\\svm\\base.py:196: FutureWarning: The default value of gamma will change from 'auto' to 'scale' in version 0.22 to account better for unscaled features. Set gamma explicitly to 'auto' or 'scale' to avoid this warning.\n",
      "  \"avoid this warning.\", FutureWarning)\n"
     ]
    },
    {
     "data": {
      "text/plain": [
       "SVC(C=1.0, cache_size=200, class_weight=None, coef0=0.0,\n",
       "  decision_function_shape='ovr', degree=3, gamma='auto_deprecated',\n",
       "  kernel='rbf', max_iter=-1, probability=False, random_state=None,\n",
       "  shrinking=True, tol=0.001, verbose=False)"
      ]
     },
     "execution_count": 19,
     "metadata": {},
     "output_type": "execute_result"
    }
   ],
   "source": [
    "model.fit(X_train,y_train)"
   ]
  },
  {
   "cell_type": "code",
   "execution_count": 20,
   "metadata": {},
   "outputs": [
    {
     "data": {
      "text/plain": [
       "0.9774774774774775"
      ]
     },
     "execution_count": 20,
     "metadata": {},
     "output_type": "execute_result"
    }
   ],
   "source": [
    "model.score(X_train,y_train)"
   ]
  },
  {
   "cell_type": "code",
   "execution_count": 21,
   "metadata": {},
   "outputs": [
    {
     "data": {
      "text/plain": [
       "0.87248322147651"
      ]
     },
     "execution_count": 21,
     "metadata": {},
     "output_type": "execute_result"
    }
   ],
   "source": [
    "model.score(X_test,y_test)"
   ]
  },
  {
   "cell_type": "code",
   "execution_count": null,
   "metadata": {},
   "outputs": [],
   "source": []
  },
  {
   "cell_type": "code",
   "execution_count": 22,
   "metadata": {},
   "outputs": [],
   "source": [
    "from sklearn.model_selection import train_test_split\n",
    "X_train, X_test, y_train, y_test = train_test_split(x2, y1, test_size=0.25, random_state=0)"
   ]
  },
  {
   "cell_type": "code",
   "execution_count": 23,
   "metadata": {},
   "outputs": [],
   "source": [
    "model2=SVC()"
   ]
  },
  {
   "cell_type": "code",
   "execution_count": 24,
   "metadata": {},
   "outputs": [
    {
     "name": "stderr",
     "output_type": "stream",
     "text": [
      "C:\\Users\\Prwatech\\AppData\\Local\\Continuum\\anaconda3\\lib\\site-packages\\sklearn\\utils\\validation.py:761: DataConversionWarning: A column-vector y was passed when a 1d array was expected. Please change the shape of y to (n_samples, ), for example using ravel().\n",
      "  y = column_or_1d(y, warn=True)\n",
      "C:\\Users\\Prwatech\\AppData\\Local\\Continuum\\anaconda3\\lib\\site-packages\\sklearn\\svm\\base.py:196: FutureWarning: The default value of gamma will change from 'auto' to 'scale' in version 0.22 to account better for unscaled features. Set gamma explicitly to 'auto' or 'scale' to avoid this warning.\n",
      "  \"avoid this warning.\", FutureWarning)\n"
     ]
    },
    {
     "data": {
      "text/plain": [
       "SVC(C=1.0, cache_size=200, class_weight=None, coef0=0.0,\n",
       "  decision_function_shape='ovr', degree=3, gamma='auto_deprecated',\n",
       "  kernel='rbf', max_iter=-1, probability=False, random_state=None,\n",
       "  shrinking=True, tol=0.001, verbose=False)"
      ]
     },
     "execution_count": 24,
     "metadata": {},
     "output_type": "execute_result"
    }
   ],
   "source": [
    "model2.fit(X_train,y_train)"
   ]
  },
  {
   "cell_type": "code",
   "execution_count": 25,
   "metadata": {},
   "outputs": [
    {
     "data": {
      "text/plain": [
       "0.963963963963964"
      ]
     },
     "execution_count": 25,
     "metadata": {},
     "output_type": "execute_result"
    }
   ],
   "source": [
    "model2.score(X_train,y_train)"
   ]
  },
  {
   "cell_type": "code",
   "execution_count": 26,
   "metadata": {},
   "outputs": [
    {
     "data": {
      "text/plain": [
       "0.9328859060402684"
      ]
     },
     "execution_count": 26,
     "metadata": {},
     "output_type": "execute_result"
    }
   ],
   "source": [
    "model2.score(X_test,y_test)"
   ]
  },
  {
   "cell_type": "code",
   "execution_count": 27,
   "metadata": {},
   "outputs": [
    {
     "data": {
      "text/plain": [
       "(284807, 10)"
      ]
     },
     "execution_count": 27,
     "metadata": {},
     "output_type": "execute_result"
    }
   ],
   "source": [
    "# Now Testing on Whole data\n",
    "\n",
    "X_test_final=df[data_rank.index[1:11]]\n",
    "Y_test_final=df[['Class']]\n",
    "X_test_final.shape"
   ]
  },
  {
   "cell_type": "code",
   "execution_count": 28,
   "metadata": {},
   "outputs": [
    {
     "name": "stderr",
     "output_type": "stream",
     "text": [
      "C:\\Users\\Prwatech\\AppData\\Local\\Continuum\\anaconda3\\lib\\site-packages\\sklearn\\utils\\validation.py:761: DataConversionWarning: A column-vector y was passed when a 1d array was expected. Please change the shape of y to (n_samples, ), for example using ravel().\n",
      "  y = column_or_1d(y, warn=True)\n",
      "C:\\Users\\Prwatech\\AppData\\Local\\Continuum\\anaconda3\\lib\\site-packages\\sklearn\\svm\\base.py:196: FutureWarning: The default value of gamma will change from 'auto' to 'scale' in version 0.22 to account better for unscaled features. Set gamma explicitly to 'auto' or 'scale' to avoid this warning.\n",
      "  \"avoid this warning.\", FutureWarning)\n"
     ]
    },
    {
     "data": {
      "text/plain": [
       "SVC(C=1.0, cache_size=200, class_weight=None, coef0=0.0,\n",
       "  decision_function_shape='ovr', degree=3, gamma='auto_deprecated',\n",
       "  kernel='rbf', max_iter=-1, probability=False, random_state=None,\n",
       "  shrinking=True, tol=0.001, verbose=False)"
      ]
     },
     "execution_count": 28,
     "metadata": {},
     "output_type": "execute_result"
    }
   ],
   "source": [
    "model2.fit(X_test_final,Y_test_final)"
   ]
  },
  {
   "cell_type": "code",
   "execution_count": null,
   "metadata": {},
   "outputs": [],
   "source": [
    "y_pred=model2.predict(X_test_final)\n",
    "y_pred"
   ]
  },
  {
   "cell_type": "code",
   "execution_count": 30,
   "metadata": {},
   "outputs": [],
   "source": [
    "from sklearn import metrics"
   ]
  },
  {
   "cell_type": "code",
   "execution_count": 31,
   "metadata": {},
   "outputs": [
    {
     "data": {
      "text/plain": [
       "array([[284305,     10],\n",
       "       [    86,    406]], dtype=int64)"
      ]
     },
     "execution_count": 31,
     "metadata": {},
     "output_type": "execute_result"
    }
   ],
   "source": [
    "cnf_met = metrics.confusion_matrix(Y_test_final, y_pred) \n",
    "cnf_met"
   ]
  },
  {
   "cell_type": "code",
   "execution_count": 32,
   "metadata": {},
   "outputs": [
    {
     "data": {
      "text/plain": [
       "0.9996629296330497"
      ]
     },
     "execution_count": 32,
     "metadata": {},
     "output_type": "execute_result"
    }
   ],
   "source": [
    "model2.score(X_test_final,Y_test_final)"
   ]
  },
  {
   "cell_type": "code",
   "execution_count": 33,
   "metadata": {},
   "outputs": [],
   "source": [
    "from sklearn.metrics import confusion_matrix \n",
    "from sklearn import metrics\n",
    "\n"
   ]
  },
  {
   "cell_type": "code",
   "execution_count": 38,
   "metadata": {},
   "outputs": [
    {
     "data": {
      "text/plain": [
       "array([[284305,     10],\n",
       "       [    86,    406]], dtype=int64)"
      ]
     },
     "execution_count": 38,
     "metadata": {},
     "output_type": "execute_result"
    }
   ],
   "source": [
    "cnf_met = metrics.confusion_matrix(Y_test_final, y_pred) \n",
    "cnf_met"
   ]
  },
  {
   "cell_type": "code",
   "execution_count": null,
   "metadata": {},
   "outputs": [],
   "source": []
  },
  {
   "cell_type": "code",
   "execution_count": null,
   "metadata": {},
   "outputs": [],
   "source": []
  }
 ],
 "metadata": {
  "kernelspec": {
   "display_name": "Python 3",
   "language": "python",
   "name": "python3"
  },
  "language_info": {
   "codemirror_mode": {
    "name": "ipython",
    "version": 3
   },
   "file_extension": ".py",
   "mimetype": "text/x-python",
   "name": "python",
   "nbconvert_exporter": "python",
   "pygments_lexer": "ipython3",
   "version": "3.7.3"
  }
 },
 "nbformat": 4,
 "nbformat_minor": 2
}
